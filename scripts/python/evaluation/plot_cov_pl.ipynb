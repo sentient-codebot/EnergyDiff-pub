{
 "cells": [
  {
   "cell_type": "markdown",
   "metadata": {},
   "source": [
    "# Plot Covariance Matrices for Real and Generated Data"
   ]
  },
  {
   "cell_type": "markdown",
   "metadata": {},
   "source": [
    "**Set Time ID** "
   ]
  },
  {
   "cell_type": "code",
   "execution_count": 1,
   "metadata": {},
   "outputs": [],
   "source": [
    "load_time_id: str = \"20250118-5882\""
   ]
  },
  {
   "cell_type": "code",
   "execution_count": 2,
   "metadata": {},
   "outputs": [],
   "source": [
    "from argparse import ArgumentParser\n",
    "from energydiff.utils import configuration\n",
    "def notebook_parser(load_time_id: str) -> configuration.ExperimentConfig:\n",
    "    r\"\"\"Fast way to parse arguments for inference\n",
    "    \n",
    "    Required:\n",
    "        - load_time_id: str\n",
    "        - [dep] load_milestone: int\n",
    "        \n",
    "    **All unspecified arguments will be the same as the training arguments.**\n",
    "    \n",
    "    Preferrably to be specified:\n",
    "        - val_batch_size: int\n",
    "        - num_sample: int\n",
    "        - num_sampling_step: int\n",
    "        - dpm_solver_sample: bool\n",
    "    \n",
    "    \"\"\"\n",
    "    parser = ArgumentParser(\n",
    "        prog='HeatoDiff Inference',\n",
    "        description='load and inference diffusion. '\n",
    "    )\n",
    "    parser.add_argument('--load_time_id', type=str, default=load_time_id, help='time id to load')\n",
    "    # parser.add_argument('--load_milestone', required=True, type=int, help='milestone to load')\n",
    "    parser.add_argument('--val_batch_size', default=None, type=int, help='batch size for validation/testing')\n",
    "    parser.add_argument('--num_sample', default=None, type=int, help='number of samples to generate every n steps')\n",
    "    parser.add_argument('--num_sampling_step', default=None, type=int, help='number of sampling steps')\n",
    "    parser.add_argument('--dpm_solver_sample', default=None, help='whether to use dpm solver for sampling')\n",
    "    \n",
    "    args, _ = parser.parse_known_args()\n",
    "    \n",
    "    # load training config\n",
    "    exp_config = configuration.ExperimentConfig.from_yaml(f'results/configs/exp_config_{args.load_time_id}.yaml')\n",
    "    \n",
    "    exp_config.model.load_time_id = args.load_time_id\n",
    "    # exp_config.model.load_milestone = args.load_milestone\n",
    "    if args.val_batch_size is not None:\n",
    "        exp_config.sample.val_batch_size = args.val_batch_size\n",
    "    if args.num_sample is not None:\n",
    "        exp_config.sample.num_sample = args.num_sample\n",
    "    if args.num_sampling_step is not None:\n",
    "        exp_config.sample.num_sampling_step = args.num_sampling_step\n",
    "    if args.dpm_solver_sample is not None:\n",
    "        exp_config.sample.dpm_solver_sample = args.dpm_solver_sample\n",
    "    \n",
    "    return exp_config"
   ]
  },
  {
   "cell_type": "code",
   "execution_count": 3,
   "metadata": {},
   "outputs": [
    {
     "name": "stderr",
     "output_type": "stream",
     "text": [
      "/Users/nanlin/miniforge3/envs/energydiff/lib/python3.12/site-packages/tqdm/auto.py:21: TqdmWarning: IProgress not found. Please update jupyter and ipywidgets. See https://ipywidgets.readthedocs.io/en/stable/user_install.html\n",
      "  from .autonotebook import tqdm as notebook_tqdm\n"
     ]
    },
    {
     "name": "stdout",
     "output_type": "stream",
     "text": [
      "/Users/nanlin/Documents/Projecten/HeatoDiff\n"
     ]
    }
   ],
   "source": [
    "import os\n",
    "import numpy as np\n",
    "import torch\n",
    "import wandb\n",
    "from einops import rearrange\n",
    "from energydiff.utils.initializer import create_dataset, get_task_profile_condition\n",
    "from energydiff.utils.plot import plot_acf_comparison\n",
    "from energydiff.utils.eval import estimate_autocorrelation\n",
    "\n",
    "os.chdir(\"../../../\")\n",
    "print(os.getcwd())\n",
    "\n",
    "def load_all_generated_data(api, config) -> dict:\n",
    "    # Get all artifacts in the project\n",
    "    run = api.run(f\"{config.wandb_project}/{config.wandb_id}\")\n",
    "    artifacts = [_ar for _ar in run.logged_artifacts() if _ar.type == 'generated_data']\n",
    "    name_all_models = set([artifact.name.split('_generated_data-')[0] for artifact in artifacts])\n",
    "\n",
    "    generated_datasets = {}\n",
    "    # Look for artifacts with names ending in _generated_data\n",
    "    for model_name in name_all_models:\n",
    "        artifact = api.artifact(\n",
    "            f\"{config.wandb_project}/{model_name}_generated_data-{config.wandb_id}:latest\",\n",
    "        )\n",
    "        data_dir = artifact.download()\n",
    "        data = torch.load(data_dir+\"/generated_data.pt\", map_location='cpu')\n",
    "        \n",
    "        generated_datasets[model_name] = data\n",
    "        \n",
    "        print(f\"Loaded generated data from {model_name}\")\n",
    "    \n",
    "    return generated_datasets\n",
    "\n",
    "def get_metric_results(source, target, metrics) -> dict:\n",
    "    source = rearrange(source, \"b c l -> b (l c)\")\n",
    "    # eval functions\n",
    "    target = rearrange(target, 'b c l -> b (l c)')\n",
    "    if torch.cuda.is_available():\n",
    "        device = torch.device('cuda')\n",
    "    else:\n",
    "        device = torch.device('cpu')\n",
    "    try:\n",
    "        source = source.to(device)\n",
    "        target = target.to(device)\n",
    "        metrics = metrics.to(device)\n",
    "        results = metrics(source, target)\n",
    "    except Exception as e:\n",
    "        print(f\"Error: {e}\")\n",
    "        device = torch.device('cpu')\n",
    "        source = source.to(device)\n",
    "        target = target.to(device)\n",
    "        metrics = metrics.to(device)\n",
    "        results = metrics(source, target)\n",
    "        \n",
    "    return results"
   ]
  },
  {
   "cell_type": "code",
   "execution_count": 4,
   "metadata": {},
   "outputs": [
    {
     "name": "stderr",
     "output_type": "stream",
     "text": [
      "\u001b[34m\u001b[1mwandb\u001b[0m: Using wandb-core as the SDK backend.  Please refer to https://wandb.me/wandb-core for more information.\n",
      "\u001b[34m\u001b[1mwandb\u001b[0m: Currently logged in as: \u001b[33mnansense97\u001b[0m (\u001b[33mnan-team\u001b[0m). Use \u001b[1m`wandb login --relogin`\u001b[0m to force relogin\n"
     ]
    },
    {
     "data": {
      "text/html": [
       "Tracking run with wandb version 0.19.1"
      ],
      "text/plain": [
       "<IPython.core.display.HTML object>"
      ]
     },
     "metadata": {},
     "output_type": "display_data"
    },
    {
     "data": {
      "text/html": [
       "Run data is saved locally in <code>/Users/nanlin/Documents/Projecten/HeatoDiff/wandb/run-20250121_164256-aqvzmycq</code>"
      ],
      "text/plain": [
       "<IPython.core.display.HTML object>"
      ]
     },
     "metadata": {},
     "output_type": "display_data"
    },
    {
     "data": {
      "text/html": [
       "Resuming run <strong><a href='https://wandb.ai/nan-team/WPuQPVDDPM/runs/aqvzmycq' target=\"_blank\">train-diffusion-pred_v-whole_year-20250118-5882</a></strong> to <a href='https://wandb.ai/nan-team/WPuQPVDDPM' target=\"_blank\">Weights & Biases</a> (<a href='https://wandb.me/developer-guide' target=\"_blank\">docs</a>)<br>"
      ],
      "text/plain": [
       "<IPython.core.display.HTML object>"
      ]
     },
     "metadata": {},
     "output_type": "display_data"
    },
    {
     "data": {
      "text/html": [
       " View project at <a href='https://wandb.ai/nan-team/WPuQPVDDPM' target=\"_blank\">https://wandb.ai/nan-team/WPuQPVDDPM</a>"
      ],
      "text/plain": [
       "<IPython.core.display.HTML object>"
      ]
     },
     "metadata": {},
     "output_type": "display_data"
    },
    {
     "data": {
      "text/html": [
       " View run at <a href='https://wandb.ai/nan-team/WPuQPVDDPM/runs/aqvzmycq' target=\"_blank\">https://wandb.ai/nan-team/WPuQPVDDPM/runs/aqvzmycq</a>"
      ],
      "text/plain": [
       "<IPython.core.display.HTML object>"
      ]
     },
     "metadata": {},
     "output_type": "display_data"
    },
    {
     "name": "stdout",
     "output_type": "stream",
     "text": [
      "Processed data loaded.\n",
      "All processed data loaded.\n",
      "Dataset ready.\n",
      "Warning: direction is None, using all_directions\n",
      "True\n"
     ]
    },
    {
     "name": "stderr",
     "output_type": "stream",
     "text": [
      "\u001b[34m\u001b[1mwandb\u001b[0m:   1 of 1 files downloaded.  \n",
      "/var/folders/1l/4hsqmyts089_gc67gmnw8__80000gn/T/ipykernel_88076/3230866671.py:26: FutureWarning: You are using `torch.load` with `weights_only=False` (the current default value), which uses the default pickle module implicitly. It is possible to construct malicious pickle data which will execute arbitrary code during unpickling (See https://github.com/pytorch/pytorch/blob/main/SECURITY.md#untrusted-models for more details). In a future release, the default value for `weights_only` will be flipped to `True`. This limits the functions that could be executed during unpickling. Arbitrary objects will no longer be allowed to be loaded via this mode unless they are explicitly allowlisted by the user via `torch.serialization.add_safe_globals`. We recommend you start setting `weights_only=True` for any use case where you don't have full control of the loaded file. Please open an issue on GitHub for any issues related to this experimental feature.\n",
      "  data = torch.load(data_dir+\"/generated_data.pt\", map_location='cpu')\n"
     ]
    },
    {
     "name": "stdout",
     "output_type": "stream",
     "text": [
      "Loaded generated data from vae_calibrated\n"
     ]
    },
    {
     "name": "stderr",
     "output_type": "stream",
     "text": [
      "\u001b[34m\u001b[1mwandb\u001b[0m:   1 of 1 files downloaded.  \n"
     ]
    },
    {
     "name": "stdout",
     "output_type": "stream",
     "text": [
      "Loaded generated data from ddpm\n"
     ]
    },
    {
     "name": "stderr",
     "output_type": "stream",
     "text": [
      "\u001b[34m\u001b[1mwandb\u001b[0m:   1 of 1 files downloaded.  \n"
     ]
    },
    {
     "name": "stdout",
     "output_type": "stream",
     "text": [
      "Loaded generated data from gmm\n"
     ]
    },
    {
     "name": "stderr",
     "output_type": "stream",
     "text": [
      "\u001b[34m\u001b[1mwandb\u001b[0m:   1 of 1 files downloaded.  \n"
     ]
    },
    {
     "name": "stdout",
     "output_type": "stream",
     "text": [
      "Loaded generated data from vae\n"
     ]
    },
    {
     "name": "stderr",
     "output_type": "stream",
     "text": [
      "\u001b[34m\u001b[1mwandb\u001b[0m:   1 of 1 files downloaded.  \n"
     ]
    },
    {
     "name": "stdout",
     "output_type": "stream",
     "text": [
      "Loaded generated data from ddpm_calibrated\n"
     ]
    },
    {
     "name": "stderr",
     "output_type": "stream",
     "text": [
      "\u001b[34m\u001b[1mwandb\u001b[0m:   1 of 1 files downloaded.  \n"
     ]
    },
    {
     "name": "stdout",
     "output_type": "stream",
     "text": [
      "Loaded generated data from gan\n"
     ]
    },
    {
     "name": "stderr",
     "output_type": "stream",
     "text": [
      "\u001b[34m\u001b[1mwandb\u001b[0m:   1 of 1 files downloaded.  \n"
     ]
    },
    {
     "name": "stdout",
     "output_type": "stream",
     "text": [
      "Loaded generated data from gan_calibrated\n"
     ]
    }
   ],
   "source": [
    "config = notebook_parser(load_time_id)\n",
    "    \n",
    "# Get original run\n",
    "api = wandb.Api()\n",
    "original_run = wandb.init(project=config.wandb_project, id=config.wandb_id, resume='must')\n",
    "\n",
    "# Get real data\n",
    "dataset_collection = create_dataset(config.data)\n",
    "all_profile, _ = get_task_profile_condition(\n",
    "    dataset_collection,\n",
    "    season=config.data.train_season,\n",
    "    conditioning=config.model.conditioning\n",
    ")\n",
    "target = torch.cat([all_profile['val'], all_profile['test']], dim=0)\n",
    "\n",
    "# Get artifacts\n",
    "generated_all = load_all_generated_data(api, config)"
   ]
  },
  {
   "cell_type": "code",
   "execution_count": 5,
   "metadata": {},
   "outputs": [],
   "source": [
    "# Process data\n",
    "if config.data.vectorize:\n",
    "    target = dataset_collection.inverse_vectorize_fn(target, style=config.data.style_vectorize)\n",
    "    target = rearrange(target, 'b 1 l -> b l')\n",
    "    \n",
    "# Adjust shape of generated\n",
    "for k, v in generated_all.items():\n",
    "    generated_all[k] = rearrange(v, 'b 1 l -> b l')\n",
    "    \n",
    "# To numpy\n",
    "target = target.cpu().numpy()\n",
    "generated_all = {k: v.cpu().numpy() for k, v in generated_all.items()}\n",
    "\n",
    "# Get autocorrelation\n",
    "# cov_target = estimate_autocorrelation(target) # [L, L]\n",
    "cov_target = np.cov(target.T) # [L, L]\n",
    "dict_cov = {}\n",
    "for model_name, generated in generated_all.items():\n",
    "    # _cov_generated = estimate_autocorrelation(generated) # [L, L]\n",
    "    _cov_generated = np.cov(generated.T) # [L, L]\n",
    "    dict_cov[model_name] = _cov_generated"
   ]
  },
  {
   "cell_type": "code",
   "execution_count": 8,
   "metadata": {},
   "outputs": [],
   "source": [
    "# [optional] re-import the plot function\n",
    "import matplotlib.pyplot as plt\n",
    "from energydiff.utils.plot import plot_cov_comparison"
   ]
  },
  {
   "cell_type": "code",
   "execution_count": 9,
   "metadata": {},
   "outputs": [
    {
     "data": {
      "image/png": "[encoded data removed]",
      "text/plain": [
       "<Figure size 1050x960 with 9 Axes>"
      ]
     },
     "metadata": {},
     "output_type": "display_data"
    }
   ],
   "source": [
    "# Plot\n",
    "fig = plot_cov_comparison(\n",
    "        dict_cov={\n",
    "            'Real Data': cov_target,\n",
    "            'GMM': dict_cov['gmm'],\n",
    "            'EnergyDiff': dict_cov['ddpm'],\n",
    "            'E.Diff. Calibrated': dict_cov['ddpm_calibrated'],\n",
    "        },\n",
    "        filename=f\"cov_{config.time_id}_real_gmm_ddpm_ddpmc.pdf\"\n",
    "    )\n",
    "plt.show()"
   ]
  }
 ],
 "metadata": {
  "kernelspec": {
   "display_name": "energydiff",
   "language": "python",
   "name": "python3"
  },
  "language_info": {
   "codemirror_mode": {
    "name": "ipython",
    "version": 3
   },
   "file_extension": ".py",
   "mimetype": "text/x-python",
   "name": "python",
   "nbconvert_exporter": "python",
   "pygments_lexer": "ipython3",
   "version": "3.12.7"
  }
 },
 "nbformat": 4,
 "nbformat_minor": 2
}
